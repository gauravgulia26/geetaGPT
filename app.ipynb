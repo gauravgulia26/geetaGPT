{
 "cells": [
  {
   "cell_type": "code",
   "execution_count": 81,
   "metadata": {},
   "outputs": [],
   "source": [
    "import os\n",
    "from groq import Groq\n",
    "from dotenv import load_dotenv\n",
    "load_dotenv()\n",
    "from langchain import hub\n",
    "from langchain_core.prompts import ChatPromptTemplate\n",
    "from langchain_community.document_loaders import PyPDFLoader\n",
    "from langchain_text_splitters import RecursiveCharacterTextSplitter\n",
    "from langchain_core.output_parsers import StrOutputParser\n",
    "from langchain_ollama.llms import OllamaLLM\n",
    "from langchain_groq import ChatGroq\n",
    "from langchain_ollama.embeddings import OllamaEmbeddings\n",
    "from langchain_community.vectorstores import FAISS\n",
    "from langchain import hub\n",
    "from langchain_core.runnables import RunnablePassthrough\n",
    "import streamlit as st"
   ]
  },
  {
   "cell_type": "code",
   "execution_count": 2,
   "metadata": {},
   "outputs": [],
   "source": [
    "os.environ['GROQ_API_KEY'] = os.getenv('GROQ_API_KEY')\n",
    "os.environ[\"LANGCHAIN_API_KEY\"] = os.getenv(\"LANGCHAIN_API_KEY\")"
   ]
  },
  {
   "cell_type": "code",
   "execution_count": 14,
   "metadata": {},
   "outputs": [],
   "source": [
    "docs = PyPDFLoader(\"/home/skynet/Documents/Gen_ai/GeetaGpt/data/bhagvatgeeta.pdf\").load()"
   ]
  },
  {
   "cell_type": "code",
   "execution_count": 4,
   "metadata": {},
   "outputs": [],
   "source": [
    "# splitter = RecursiveCharacterTextSplitter(chunk_size=8100,chunk_overlap=2000)"
   ]
  },
  {
   "cell_type": "code",
   "execution_count": 5,
   "metadata": {},
   "outputs": [],
   "source": [
    "# corpus = splitter.split_documents(data)"
   ]
  },
  {
   "cell_type": "code",
   "execution_count": 4,
   "metadata": {},
   "outputs": [],
   "source": [
    "model = ChatGroq(model=\"gemma2-9b-it\",max_tokens=4050)\n",
    "llm = OllamaLLM(model=\"gemma2:9b\")\n",
    "embeddings = OllamaEmbeddings(model=\"gemma2:9b\")"
   ]
  },
  {
   "cell_type": "code",
   "execution_count": 7,
   "metadata": {},
   "outputs": [],
   "source": [
    "# db = FAISS.from_documents(corpus, embeddings)"
   ]
  },
  {
   "cell_type": "code",
   "execution_count": 9,
   "metadata": {},
   "outputs": [],
   "source": [
    "# db.save_local(\"bhagvatgeeta_faiss\")"
   ]
  },
  {
   "cell_type": "code",
   "execution_count": 6,
   "metadata": {},
   "outputs": [],
   "source": [
    "db = FAISS.load_local(\"bhagvatgeeta_faiss\",embeddings=embeddings,allow_dangerous_deserialization=True)"
   ]
  },
  {
   "cell_type": "code",
   "execution_count": 7,
   "metadata": {},
   "outputs": [],
   "source": [
    "query = \"What is the meaning of life?\"\n",
    "results = db.similarity_search(query, k=1)"
   ]
  },
  {
   "cell_type": "code",
   "execution_count": 15,
   "metadata": {},
   "outputs": [],
   "source": [
    "retriever = db.as_retriever()\n",
    "# prompt = hub.pull('rlm/rag-prompt')"
   ]
  },
  {
   "cell_type": "code",
   "execution_count": 16,
   "metadata": {},
   "outputs": [],
   "source": [
    "def format_docs(docs):\n",
    "    return \"\\n\\n\".join(doc.page_content for doc in docs)"
   ]
  },
  {
   "cell_type": "code",
   "execution_count": 84,
   "metadata": {},
   "outputs": [],
   "source": [
    "prompt_template = \"\"\"\n",
    "Prompt:\n",
    "\n",
    "    Task: Answer questions based on the Bhagavad Gita teachings.\n",
    "\n",
    "    Instructions:\n",
    "\n",
    "        Retrieve relevant information: Search the Bhagavad Gita for passages that are most relevant to the query.\n",
    "        Summarize key points: Extract the main ideas and concepts from the retrieved passages.\n",
    "        Generate a comprehensive response: Combine the summarized information with the query to create a coherent and informative answer.\n",
    "        Mention references: Clearly indicate the chapter and verse numbers from which the information is extracted.\n",
    "        Mention Sholkas: Clearly include relevant shlokas from the Gita to support your response.\n",
    "        Provide accurate information: Ensure that the information provided is accurate and consistent with the teachings of the Gita.\n",
    "        Translate: Provide translations of the shlokas in Hindi to help explain their meaning.\n",
    "\n",
    "\n",
    "    Guidelines:\n",
    "\n",
    "        Stay true to the text: Ensure that your responses are consistent with the teachings of the Bhagavad Gita.\n",
    "        Provide context: If applicable, provide additional context from the Gita to support your answer.\n",
    "        Be respectful: Maintain a respectful and reverent tone when answering questions about the Bhagavad Gita.\n",
    "        Be concise: Provide clear and concise responses that address the query directly.\n",
    "        Stay focused: Ensure that your response is directly related to the Bhagavad Gita and avoids unrelated and out of context topics.\n",
    "        Answering Style: Start with \"Jai Shri Krishna\" and end with \"Jai Shri Krishna\" in your answer.\n",
    "        Out of scope: Avoid providing personal opinions or interpretations that are not supported by the text of the Gita.\n",
    "        Out of Context: Avoid providing information that is not directly related to the query or the teachings of the Gita.\n",
    "        Inaccurate Information: Avoid providing information that is inaccurate or inconsistent with the teachings of the Gita.\n",
    "        Not Sure: If you don't know the answer: Say \"Jai Shri Krishna! I'm not sure, would you like me to look it up?\"\n",
    "\n",
    "    \n",
    "\n",
    "Context:\n",
    "\n",
    "{context}\n",
    "\n",
    "Question:\n",
    "\n",
    "{question}\n",
    "\n",
    "\"\"\""
   ]
  },
  {
   "cell_type": "code",
   "execution_count": 85,
   "metadata": {},
   "outputs": [],
   "source": [
    "new_prompt = ChatPromptTemplate([\n",
    "    prompt_template\n",
    "])"
   ]
  },
  {
   "cell_type": "code",
   "execution_count": 86,
   "metadata": {},
   "outputs": [],
   "source": [
    "rag_chain = (\n",
    "    {\"context\": retriever, \"question\": RunnablePassthrough()}\n",
    "    | new_prompt\n",
    "    | model\n",
    "    | StrOutputParser()\n",
    ")"
   ]
  },
  {
   "cell_type": "code",
   "execution_count": null,
   "metadata": {},
   "outputs": [],
   "source": [
    "st.title(\"Bhagavad Gita Chatbot\")\n",
    "st.write(\n",
    "    \"This is a chatbot that can answer questions based on the teachings of the Bhagavad Gita.\"\n",
    ")\n",
    "st.write(\"Please enter your question below and click 'Ask' to get an answer.\")\n",
    "st.write(\n",
    "    \"You can ask questions about the teachings, philosophy, and concepts of the Bhagavad Gita.\"\n",
    ")\n",
    "st.write(\n",
    "    \"For example, you can ask about the meaning of life, the purpose of human existence, the nature of the soul, etc.\"\n",
    ")\n",
    "st.write(\n",
    "    \"Please note that this chatbot is designed to provide information based on the text of the Bhagavad Gita and may not be able to answer all questions.\"\n",
    ")\n",
    "# taking input from user\n",
    "question = st.text_input(\"Enter your question here:\")\n",
    "if st.button(\"Ask\"):\n",
    "    answer = rag_chain.invoke(question)\n",
    "    st.write(answer)"
   ]
  },
  {
   "cell_type": "code",
   "execution_count": null,
   "metadata": {},
   "outputs": [],
   "source": []
  },
  {
   "cell_type": "code",
   "execution_count": 88,
   "metadata": {},
   "outputs": [
    {
     "data": {
      "text/plain": [
       "'Jai Shri Krishna! The Bhagavad Gita emphasizes the importance of righteous conduct and discourages any action that causes harm to others.\\n\\nHere\\'s what the Gita teaches:\\n\\n* **Karma Yoga:**  The Gita promotes \"Karma Yoga,\" which is selfless action performed without attachment to the results. It encourages doing one\\'s duty without expecting anything in return, be it good or bad.\\n* **Detachment from Results:** The Gita stresses the importance of detachment from the fruits of our actions. We should not act with the intention of harming others or expecting them to suffer.  \\n\\nThe passage from Chapter 3, verse 9, states:\\n\\n>  *“sarva-dharman parityajya mam ekam sharanam vraja ahham tvam sarva-papebhyo mokshayishyami ma shuchah*”\\n\\n> *“Abandon all varieties of religion and just surrender unto Me. I shall deliver you from all sinful reactions. Do not fear.”*\\n\\n\\nThis verse shows that by surrendering to Krishna and acting with selfless devotion, one can be freed from the cycle of karma and its consequences, both good and bad.\\n\\nRemember, true happiness and liberation come from acting with integrity, compassion, and righteousness.  \\n\\nJai Shri Krishna. \\n'"
      ]
     },
     "execution_count": 88,
     "metadata": {},
     "output_type": "execute_result"
    }
   ],
   "source": [
    "rag_chain.invoke(\"Should i do bad to a person get good things\")"
   ]
  },
  {
   "cell_type": "code",
   "execution_count": 89,
   "metadata": {},
   "outputs": [],
   "source": [
    "def loading_models():\n",
    "    return ChatGroq(model=\"gemma2-9b-it\"), OllamaEmbeddings(model=\"gemma2:9b\")"
   ]
  },
  {
   "cell_type": "code",
   "execution_count": 92,
   "metadata": {},
   "outputs": [],
   "source": [
    "model, embeddings = loading_models()[0], loading_models()[1]"
   ]
  },
  {
   "cell_type": "code",
   "execution_count": 94,
   "metadata": {},
   "outputs": [
    {
     "data": {
      "text/plain": [
       "OllamaEmbeddings(model='gemma2:9b', base_url=None, client_kwargs={}, _client=<ollama._client.Client object at 0x7f742c32cfd0>, _async_client=<ollama._client.AsyncClient object at 0x7f742c32cfa0>)"
      ]
     },
     "execution_count": 94,
     "metadata": {},
     "output_type": "execute_result"
    }
   ],
   "source": [
    "embeddings"
   ]
  },
  {
   "cell_type": "code",
   "execution_count": null,
   "metadata": {},
   "outputs": [],
   "source": []
  },
  {
   "cell_type": "code",
   "execution_count": null,
   "metadata": {},
   "outputs": [],
   "source": []
  }
 ],
 "metadata": {
  "kernelspec": {
   "display_name": "geetagpt",
   "language": "python",
   "name": "python3"
  },
  "language_info": {
   "codemirror_mode": {
    "name": "ipython",
    "version": 3
   },
   "file_extension": ".py",
   "mimetype": "text/x-python",
   "name": "python",
   "nbconvert_exporter": "python",
   "pygments_lexer": "ipython3",
   "version": "3.10.14"
  }
 },
 "nbformat": 4,
 "nbformat_minor": 2
}
